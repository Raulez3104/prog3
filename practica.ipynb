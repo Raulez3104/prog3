{
 "cells": [
  {
   "cell_type": "code",
   "execution_count": 4,
   "id": "11daebd0",
   "metadata": {},
   "outputs": [
    {
     "name": "stdout",
     "output_type": "stream",
     "text": [
      "Ingrese su nombre:raul\n",
      "Ingrese la edad20\n",
      "Mi nombre es raul y tengo 20 años\n"
     ]
    }
   ],
   "source": [
    "nombre=input('Ingrese su nombre:')\n",
    "edad=int(input('Ingrese la edad'))\n",
    "\n",
    "print(f'Mi nombre es {nombre} y tengo {edad} años')"
   ]
  },
  {
   "cell_type": "code",
   "execution_count": null,
   "id": "caec14aa",
   "metadata": {},
   "outputs": [],
   "source": []
  },
  {
   "cell_type": "code",
   "execution_count": null,
   "id": "603f6c1e",
   "metadata": {},
   "outputs": [],
   "source": []
  },
  {
   "cell_type": "code",
   "execution_count": null,
   "id": "c74e493a",
   "metadata": {},
   "outputs": [],
   "source": []
  }
 ],
 "metadata": {
  "kernelspec": {
   "display_name": "Python 3 (ipykernel)",
   "language": "python",
   "name": "python3"
  },
  "language_info": {
   "codemirror_mode": {
    "name": "ipython",
    "version": 3
   },
   "file_extension": ".py",
   "mimetype": "text/x-python",
   "name": "python",
   "nbconvert_exporter": "python",
   "pygments_lexer": "ipython3",
   "version": "3.9.13"
  }
 },
 "nbformat": 4,
 "nbformat_minor": 5
}
